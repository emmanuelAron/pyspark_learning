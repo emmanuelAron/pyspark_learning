{
 "cells": [
  {
   "cell_type": "code",
   "execution_count": 4,
   "id": "8b4cb56a-c4d9-4f5a-beb7-f94e2efc1d7b",
   "metadata": {},
   "outputs": [
    {
     "name": "stdout",
     "output_type": "stream",
     "text": [
      "+---------+---------+--------+--------+---------+\n",
      "|Player_ID|   Player|    Team|Position|   Salary|\n",
      "+---------+---------+--------+--------+---------+\n",
      "|        1| Player_1|    NULL|      SF|4190611.0|\n",
      "|        2| Player_2|    Heat|      SG|3050658.0|\n",
      "|        3| Player_3|    Suns|      SF|4519194.0|\n",
      "|        4| Player_4|Clippers|      SF|7000660.0|\n",
      "|        5| Player_5|   Spurs|      PF|2907846.0|\n",
      "|        6| Player_6|  Lakers|      PG|2907870.0|\n",
      "|        7| Player_7|    Nets|      SF|7200107.0|\n",
      "|        8| Player_8|    Nets|       C|     NULL|\n",
      "|        9| Player_9|Clippers|      SF|2585069.0|\n",
      "|       10|Player_10|Warriors|       C|4287781.0|\n",
      "|       11|Player_11|    Nets|      PG|2592909.0|\n",
      "|       12|Player_12|   Bulls|      SF|2589914.0|\n",
      "|       13|Player_13|Warriors|      SG|3689425.0|\n",
      "|       14|Player_14|  Lakers|      SF|1255896.0|\n",
      "|       15|Player_15|    NULL|      SG|     NULL|\n",
      "|       16|Player_16|   Spurs|      PG|2467846.0|\n",
      "|       17|Player_17|    Heat|      SF|1970079.0|\n",
      "|       18|Player_18| Raptors|      PF|3825209.0|\n",
      "|       19|Player_19|Warriors|      PF|2076071.0|\n",
      "|       20|Player_20| Celtics|      PG|1613390.0|\n",
      "+---------+---------+--------+--------+---------+\n",
      "only showing top 20 rows\n",
      "\n"
     ]
    }
   ],
   "source": [
    "from pyspark.sql import SparkSession\n",
    "\n",
    "spark = (SparkSession.builder\n",
    "    .appName(\"PySparkChallenge100k\")\n",
    "    .master(\"local[*]\")\n",
    "    .config(\"spark.sql.execution.arrow.pyspark.enabled\", \"false\")\n",
    "    .getOrCreate())\n",
    "\n",
    "players = spark.read.csv(\n",
    "    \"/mnt/c/Users/33687/Desktop/pyspark_challenge_100k/players_100k.csv\",\n",
    "    header=True,\n",
    "    inferSchema=True\n",
    ")\n",
    "\n",
    "stats = spark.read.csv(\n",
    "    \"/mnt/c/Users/33687/Desktop/pyspark_challenge_100k/stats_100k.csv\",\n",
    "    header=True,\n",
    "    inferSchema=True\n",
    ")\n",
    "\n",
    "players.show()\n"
   ]
  },
  {
   "cell_type": "code",
   "execution_count": 5,
   "id": "c2ed9154-a1ed-4ebf-acd7-613594e6637c",
   "metadata": {},
   "outputs": [
    {
     "name": "stdout",
     "output_type": "stream",
     "text": [
      "+---------+---------+--------+--------+---------+\n",
      "|Player_ID|   Player|    Team|Position|   Salary|\n",
      "+---------+---------+--------+--------+---------+\n",
      "|        1| Player_1|    NULL|      SF|4190611.0|\n",
      "|        2| Player_2|    Heat|      SG|3050658.0|\n",
      "|        3| Player_3|    Suns|      SF|4519194.0|\n",
      "|        4| Player_4|Clippers|      SF|7000660.0|\n",
      "|        5| Player_5|   Spurs|      PF|2907846.0|\n",
      "|        6| Player_6|  Lakers|      PG|2907870.0|\n",
      "|        7| Player_7|    Nets|      SF|7200107.0|\n",
      "|        8| Player_8|    Nets|       C|     NULL|\n",
      "|        9| Player_9|Clippers|      SF|2585069.0|\n",
      "|       10|Player_10|Warriors|       C|4287781.0|\n",
      "|       11|Player_11|    Nets|      PG|2592909.0|\n",
      "|       12|Player_12|   Bulls|      SF|2589914.0|\n",
      "|       13|Player_13|Warriors|      SG|3689425.0|\n",
      "|       14|Player_14|  Lakers|      SF|1255896.0|\n",
      "|       15|Player_15|    NULL|      SG|     NULL|\n",
      "|       16|Player_16|   Spurs|      PG|2467846.0|\n",
      "|       17|Player_17|    Heat|      SF|1970079.0|\n",
      "|       18|Player_18| Raptors|      PF|3825209.0|\n",
      "|       19|Player_19|Warriors|      PF|2076071.0|\n",
      "|       20|Player_20| Celtics|      PG|1613390.0|\n",
      "+---------+---------+--------+--------+---------+\n",
      "only showing top 20 rows\n",
      "\n"
     ]
    }
   ],
   "source": [
    "players.show()"
   ]
  },
  {
   "cell_type": "code",
   "execution_count": 7,
   "id": "78be5506-716d-4ef0-9250-6438c8a01034",
   "metadata": {},
   "outputs": [
    {
     "name": "stdout",
     "output_type": "stream",
     "text": [
      "stats  100000\n",
      "players  100000\n"
     ]
    }
   ],
   "source": [
    "#Compte le nombre total de lignes dans chaque fichier.\n",
    "print('stats ', stats.count())\n",
    "print('players ', players.count())"
   ]
  },
  {
   "cell_type": "code",
   "execution_count": 8,
   "id": "e8a9ba1d-eaa5-4f7f-935d-519c46e1194d",
   "metadata": {},
   "outputs": [
    {
     "name": "stdout",
     "output_type": "stream",
     "text": [
      "root\n",
      " |-- Player_ID: integer (nullable = true)\n",
      " |-- Season: integer (nullable = true)\n",
      " |-- GP: integer (nullable = true)\n",
      " |-- BLK: double (nullable = true)\n",
      " |-- DRB: double (nullable = true)\n",
      " |-- STL: double (nullable = true)\n",
      " |-- PTS: double (nullable = true)\n",
      "\n",
      "root\n",
      " |-- Player_ID: integer (nullable = true)\n",
      " |-- Player: string (nullable = true)\n",
      " |-- Team: string (nullable = true)\n",
      " |-- Position: string (nullable = true)\n",
      " |-- Salary: double (nullable = true)\n",
      "\n"
     ]
    }
   ],
   "source": [
    "# Affiche le schéma (printSchema) des deux DataFrames\n",
    "stats.printSchema()\n",
    "players.printSchema()"
   ]
  },
  {
   "cell_type": "code",
   "execution_count": 15,
   "id": "8a2ded95-ad52-453c-803e-91f517883d2e",
   "metadata": {},
   "outputs": [],
   "source": [
    "from pyspark.sql.functions import col"
   ]
  },
  {
   "cell_type": "code",
   "execution_count": 17,
   "id": "0b300125-c558-4847-9045-0a72c08027a9",
   "metadata": {},
   "outputs": [
    {
     "name": "stdout",
     "output_type": "stream",
     "text": [
      "+---------+----------+--------+--------+---------+\n",
      "|Player_ID|    Player|    Team|Position|   Salary|\n",
      "+---------+----------+--------+--------+---------+\n",
      "|        1|  Player_1|    NULL|      SF|4190611.0|\n",
      "|        8|  Player_8|    Nets|       C|     NULL|\n",
      "|       15| Player_15|    NULL|      SG|     NULL|\n",
      "|       34| Player_34|   76ers|      PG|     NULL|\n",
      "|       40| Player_40|    NULL|      SG|3607157.0|\n",
      "|       49| Player_49|   Bucks|      PF|     NULL|\n",
      "|       50| Player_50|    NULL|      PG|1353873.0|\n",
      "|       56| Player_56|    NULL|       C|5207654.0|\n",
      "|       59| Player_59|  Knicks|      PG|     NULL|\n",
      "|       64| Player_64|    NULL|      SG|1797481.0|\n",
      "|       68| Player_68| Raptors|      SG|     NULL|\n",
      "|       79| Player_79|Warriors|      SF|     NULL|\n",
      "|       82| Player_82|   Spurs|      PF|     NULL|\n",
      "|       83| Player_83|    NULL|      PG|6844439.0|\n",
      "|       88| Player_88| Raptors|      PF|     NULL|\n",
      "|       89| Player_89|    NULL|      PG|2508310.0|\n",
      "|      102|Player_102|    NULL|      PF|2648959.0|\n",
      "|      105|Player_105|    NULL|      PF|3015744.0|\n",
      "|      111|Player_111|    NULL|      SG|1252453.0|\n",
      "|      123|Player_123|    NULL|       C|     NULL|\n",
      "+---------+----------+--------+--------+---------+\n",
      "only showing top 20 rows\n",
      "\n"
     ]
    }
   ],
   "source": [
    "# Détecte les colonnes contenant des valeurs NULL dans players et stats\n",
    "players.filter( col('Player').isNull() | col('Team').isNull() | col('Position').isNull() | col('Salary').isNull() ).show()"
   ]
  },
  {
   "cell_type": "code",
   "execution_count": 18,
   "id": "51bf9fb5-492a-46e3-9707-8ae7a5257fda",
   "metadata": {},
   "outputs": [
    {
     "name": "stdout",
     "output_type": "stream",
     "text": [
      "+---------+------+---+----+----+----+----+\n",
      "|Player_ID|Season| GP| BLK| DRB| STL| PTS|\n",
      "+---------+------+---+----+----+----+----+\n",
      "|        1|  2023| 20| 2.6| 5.5| 2.0|27.5|\n",
      "|        2|  2023| 41|NULL| 7.1| 0.8|34.1|\n",
      "|        3|  2023| 30|NULL| 2.4| 2.8|NULL|\n",
      "|        4|  2022| 16| 1.7|10.5| 0.4|NULL|\n",
      "|        5|  2023| 34| 1.3| 2.8| 0.2| 3.0|\n",
      "|        6|  2024| 56| 1.0| 8.0| 2.4|36.8|\n",
      "|        7|  2023| 22| 2.9| 4.5|NULL|18.3|\n",
      "|        8|  2023| 43| 2.6| 3.4| 0.8|13.0|\n",
      "|        9|  2023| 76| 2.5| 6.3| 1.2|22.7|\n",
      "|       10|  2023| 44| 2.0| 1.5| 0.9| 4.0|\n",
      "|       11|  2023| 72| 3.2| 3.1| 1.0|15.4|\n",
      "|       12|  2023| 77| 3.3| 4.9| 0.6|34.2|\n",
      "|       13|  2023| 46| 3.4| 9.2| 1.6| 4.8|\n",
      "|       14|  2023| 67| 2.6|10.2| 2.9| 2.2|\n",
      "|       15|  2023| 71| 2.4|10.5| 2.1|13.0|\n",
      "|       16|  2023| 19| 2.8| 3.6| 0.8|36.1|\n",
      "|       17|  2023| 44| 0.8|11.0| 1.2|NULL|\n",
      "|       18|  2023| 22| 2.8|11.4| 1.9| 2.5|\n",
      "|       19|  2024| 39| 1.4|NULL| 2.9|19.6|\n",
      "|       20|  2023| 64| 1.7| 5.8| 1.4| 6.7|\n",
      "+---------+------+---+----+----+----+----+\n",
      "only showing top 20 rows\n",
      "\n"
     ]
    }
   ],
   "source": [
    "stats.show()"
   ]
  },
  {
   "cell_type": "code",
   "execution_count": 19,
   "id": "e0cc2582-911f-4c87-a3e7-edfab9d4a895",
   "metadata": {},
   "outputs": [
    {
     "name": "stdout",
     "output_type": "stream",
     "text": [
      "+---------+------+---+----+----+----+----+\n",
      "|Player_ID|Season| GP| BLK| DRB| STL| PTS|\n",
      "+---------+------+---+----+----+----+----+\n",
      "|        2|  2023| 41|NULL| 7.1| 0.8|34.1|\n",
      "|        3|  2023| 30|NULL| 2.4| 2.8|NULL|\n",
      "|        4|  2022| 16| 1.7|10.5| 0.4|NULL|\n",
      "|        7|  2023| 22| 2.9| 4.5|NULL|18.3|\n",
      "|       17|  2023| 44| 0.8|11.0| 1.2|NULL|\n",
      "|       19|  2024| 39| 1.4|NULL| 2.9|19.6|\n",
      "|       28|  2023| 62| 0.5|NULL|NULL|21.4|\n",
      "|       29|  2023| 36| 0.1|10.4| 0.5|NULL|\n",
      "|       31|  2023| 55| 0.1|NULL| 2.0|22.6|\n",
      "|       35|  2022| 59| 2.3|NULL| 2.8|37.1|\n",
      "|       36|  2023| 41| 1.5|10.5|NULL|NULL|\n",
      "|       37|  2023| 33|NULL|10.0| 0.6| 3.5|\n",
      "|       42|  2022| 40| 0.4| 8.1|NULL|34.9|\n",
      "|       45|  2022| 56| 0.6|NULL| 2.1|27.2|\n",
      "|       60|  2023| 51| 0.3| 7.6| 0.6|NULL|\n",
      "|       65|  2022| 49|NULL| 1.1|NULL|16.2|\n",
      "|       66|  2023| 66|NULL| 1.9| 1.4|15.7|\n",
      "|       68|  2023| 59| 0.5|NULL| 1.9|17.3|\n",
      "|       77|  2024| 47| 3.2|NULL| 1.6|30.8|\n",
      "|       82|  2023| 80|NULL|10.5| 1.4|26.8|\n",
      "+---------+------+---+----+----+----+----+\n",
      "only showing top 20 rows\n",
      "\n"
     ]
    }
   ],
   "source": [
    "stats.filter( col('Season').isNull() | col('GP').isNull() | col('BLK').isNull() | col('DRB').isNull() | col('STL').isNull() | col('PTS').isNull() ).show()"
   ]
  },
  {
   "cell_type": "code",
   "execution_count": 22,
   "id": "425f9c7c-30c6-4158-a22a-c7264bfb32ef",
   "metadata": {},
   "outputs": [
    {
     "name": "stdout",
     "output_type": "stream",
     "text": [
      "+---------+---------+--------+--------+---------+\n",
      "|Player_ID|   Player|    Team|Position|   Salary|\n",
      "+---------+---------+--------+--------+---------+\n",
      "|        1| Player_1| Unknown|      SF|4190611.0|\n",
      "|        2| Player_2|    Heat|      SG|3050658.0|\n",
      "|        3| Player_3|    Suns|      SF|4519194.0|\n",
      "|        4| Player_4|Clippers|      SF|7000660.0|\n",
      "|        5| Player_5|   Spurs|      PF|2907846.0|\n",
      "|        6| Player_6|  Lakers|      PG|2907870.0|\n",
      "|        7| Player_7|    Nets|      SF|7200107.0|\n",
      "|        8| Player_8|    Nets|       C|      0.0|\n",
      "|        9| Player_9|Clippers|      SF|2585069.0|\n",
      "|       10|Player_10|Warriors|       C|4287781.0|\n",
      "|       11|Player_11|    Nets|      PG|2592909.0|\n",
      "|       12|Player_12|   Bulls|      SF|2589914.0|\n",
      "|       13|Player_13|Warriors|      SG|3689425.0|\n",
      "|       14|Player_14|  Lakers|      SF|1255896.0|\n",
      "|       15|Player_15| Unknown|      SG|      0.0|\n",
      "|       16|Player_16|   Spurs|      PG|2467846.0|\n",
      "|       17|Player_17|    Heat|      SF|1970079.0|\n",
      "|       18|Player_18| Raptors|      PF|3825209.0|\n",
      "|       19|Player_19|Warriors|      PF|2076071.0|\n",
      "|       20|Player_20| Celtics|      PG|1613390.0|\n",
      "+---------+---------+--------+--------+---------+\n",
      "only showing top 20 rows\n",
      "\n"
     ]
    }
   ],
   "source": [
    "# Remplace les NULL dans Salary par 0.\n",
    "# Remplace les NULL dans Team par \"Unknown\".\n",
    "# Remplace les NULL dans les stats numériques (PTS, BLK, DRB, STL) par 0.\n",
    "players.fillna( { 'Salary':0 , 'Team' : \"Unknown\" }  ).show()"
   ]
  },
  {
   "cell_type": "code",
   "execution_count": 23,
   "id": "df44ec4d-6b8e-4f09-8fc3-cf7500066393",
   "metadata": {},
   "outputs": [],
   "source": [
    "players = players.fillna( { 'Salary':0 , 'Team' : \"Unknown\" }  )"
   ]
  },
  {
   "cell_type": "code",
   "execution_count": 25,
   "id": "a545cba6-c0d9-48ba-820f-1065ebf5766d",
   "metadata": {},
   "outputs": [],
   "source": [
    "stats = stats.fillna(0)"
   ]
  },
  {
   "cell_type": "code",
   "execution_count": 26,
   "id": "adedb069-4e62-45e7-b11b-e8103dbce455",
   "metadata": {},
   "outputs": [
    {
     "name": "stdout",
     "output_type": "stream",
     "text": [
      "+---------+------+---+---+----+---+----+\n",
      "|Player_ID|Season| GP|BLK| DRB|STL| PTS|\n",
      "+---------+------+---+---+----+---+----+\n",
      "|        1|  2023| 20|2.6| 5.5|2.0|27.5|\n",
      "|        2|  2023| 41|0.0| 7.1|0.8|34.1|\n",
      "|        3|  2023| 30|0.0| 2.4|2.8| 0.0|\n",
      "|        4|  2022| 16|1.7|10.5|0.4| 0.0|\n",
      "|        5|  2023| 34|1.3| 2.8|0.2| 3.0|\n",
      "|        6|  2024| 56|1.0| 8.0|2.4|36.8|\n",
      "|        7|  2023| 22|2.9| 4.5|0.0|18.3|\n",
      "|        8|  2023| 43|2.6| 3.4|0.8|13.0|\n",
      "|        9|  2023| 76|2.5| 6.3|1.2|22.7|\n",
      "|       10|  2023| 44|2.0| 1.5|0.9| 4.0|\n",
      "|       11|  2023| 72|3.2| 3.1|1.0|15.4|\n",
      "|       12|  2023| 77|3.3| 4.9|0.6|34.2|\n",
      "|       13|  2023| 46|3.4| 9.2|1.6| 4.8|\n",
      "|       14|  2023| 67|2.6|10.2|2.9| 2.2|\n",
      "|       15|  2023| 71|2.4|10.5|2.1|13.0|\n",
      "|       16|  2023| 19|2.8| 3.6|0.8|36.1|\n",
      "|       17|  2023| 44|0.8|11.0|1.2| 0.0|\n",
      "|       18|  2023| 22|2.8|11.4|1.9| 2.5|\n",
      "|       19|  2024| 39|1.4| 0.0|2.9|19.6|\n",
      "|       20|  2023| 64|1.7| 5.8|1.4| 6.7|\n",
      "+---------+------+---+---+----+---+----+\n",
      "only showing top 20 rows\n",
      "\n"
     ]
    }
   ],
   "source": [
    "stats.show()"
   ]
  },
  {
   "cell_type": "code",
   "execution_count": 27,
   "id": "ac0dec43-8fec-4bf0-873a-9ebf2a5671a4",
   "metadata": {},
   "outputs": [],
   "source": [
    "# Vérifie combien de joueurs n’ont aucune équipe."
   ]
  },
  {
   "cell_type": "code",
   "execution_count": 28,
   "id": "5443dea5-1a33-4dad-82ae-1f07e77b38ff",
   "metadata": {},
   "outputs": [
    {
     "name": "stdout",
     "output_type": "stream",
     "text": [
      "+---------+---------+--------+--------+---------+\n",
      "|Player_ID|   Player|    Team|Position|   Salary|\n",
      "+---------+---------+--------+--------+---------+\n",
      "|        1| Player_1| Unknown|      SF|4190611.0|\n",
      "|        2| Player_2|    Heat|      SG|3050658.0|\n",
      "|        3| Player_3|    Suns|      SF|4519194.0|\n",
      "|        4| Player_4|Clippers|      SF|7000660.0|\n",
      "|        5| Player_5|   Spurs|      PF|2907846.0|\n",
      "|        6| Player_6|  Lakers|      PG|2907870.0|\n",
      "|        7| Player_7|    Nets|      SF|7200107.0|\n",
      "|        8| Player_8|    Nets|       C|      0.0|\n",
      "|        9| Player_9|Clippers|      SF|2585069.0|\n",
      "|       10|Player_10|Warriors|       C|4287781.0|\n",
      "|       11|Player_11|    Nets|      PG|2592909.0|\n",
      "|       12|Player_12|   Bulls|      SF|2589914.0|\n",
      "|       13|Player_13|Warriors|      SG|3689425.0|\n",
      "|       14|Player_14|  Lakers|      SF|1255896.0|\n",
      "|       15|Player_15| Unknown|      SG|      0.0|\n",
      "|       16|Player_16|   Spurs|      PG|2467846.0|\n",
      "|       17|Player_17|    Heat|      SF|1970079.0|\n",
      "|       18|Player_18| Raptors|      PF|3825209.0|\n",
      "|       19|Player_19|Warriors|      PF|2076071.0|\n",
      "|       20|Player_20| Celtics|      PG|1613390.0|\n",
      "+---------+---------+--------+--------+---------+\n",
      "only showing top 20 rows\n",
      "\n"
     ]
    }
   ],
   "source": [
    "players.show()"
   ]
  },
  {
   "cell_type": "code",
   "execution_count": 30,
   "id": "947b2187-8339-4b39-9381-d685f29b94c1",
   "metadata": {},
   "outputs": [
    {
     "data": {
      "text/plain": [
       "9912"
      ]
     },
     "execution_count": 30,
     "metadata": {},
     "output_type": "execute_result"
    }
   ],
   "source": [
    "# Vérifie combien de joueurs n’ont aucune équipe.\n",
    "players.filter(col('Team') == 'Unknown').count()"
   ]
  },
  {
   "cell_type": "code",
   "execution_count": null,
   "id": "7d9eddc0-cc41-4fec-b471-c4076a4c0668",
   "metadata": {},
   "outputs": [],
   "source": []
  }
 ],
 "metadata": {
  "kernelspec": {
   "display_name": "Python 3 (ipykernel)",
   "language": "python",
   "name": "python3"
  },
  "language_info": {
   "codemirror_mode": {
    "name": "ipython",
    "version": 3
   },
   "file_extension": ".py",
   "mimetype": "text/x-python",
   "name": "python",
   "nbconvert_exporter": "python",
   "pygments_lexer": "ipython3",
   "version": "3.10.12"
  }
 },
 "nbformat": 4,
 "nbformat_minor": 5
}
