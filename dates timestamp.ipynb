{
 "cells": [
  {
   "cell_type": "code",
   "execution_count": 1,
   "id": "cd6e6fc8-4c41-4d88-aabf-5990c7670753",
   "metadata": {},
   "outputs": [
    {
     "name": "stderr",
     "output_type": "stream",
     "text": [
      "25/08/29 10:52:51 WARN Utils: Your hostname, EmmanuelPC resolves to a loopback address: 127.0.1.1; using 10.255.255.254 instead (on interface lo)\n",
      "25/08/29 10:52:51 WARN Utils: Set SPARK_LOCAL_IP if you need to bind to another address\n",
      "Setting default log level to \"WARN\".\n",
      "To adjust logging level use sc.setLogLevel(newLevel). For SparkR, use setLogLevel(newLevel).\n",
      "25/08/29 10:52:52 WARN NativeCodeLoader: Unable to load native-hadoop library for your platform... using builtin-java classes where applicable\n",
      "                                                                                "
     ]
    },
    {
     "name": "stdout",
     "output_type": "stream",
     "text": [
      "+-------------+-------------------+------+\n",
      "|TransactionID|TransactionDate    |Amount|\n",
      "+-------------+-------------------+------+\n",
      "|T001         |2025-08-28 14:30:00|120.5 |\n",
      "|T002         |2024-12-31 23:59:59|250.0 |\n",
      "|T003         |2023-01-15 08:15:45|75.2  |\n",
      "|T004         |2022-06-05 18:05:30|560.1 |\n",
      "|T005         |NULL               |300.0 |\n",
      "+-------------+-------------------+------+\n",
      "\n"
     ]
    }
   ],
   "source": [
    "from pyspark.sql import SparkSession\n",
    "\n",
    "spark = SparkSession.builder.appName(\"DateChallenge\").getOrCreate()\n",
    "\n",
    "data = [\n",
    "    (\"T001\", \"2025-08-28 14:30:00\", 120.5),\n",
    "    (\"T002\", \"2024-12-31 23:59:59\", 250.0),\n",
    "    (\"T003\", \"2023-01-15 08:15:45\", 75.2),\n",
    "    (\"T004\", \"2022-06-05 18:05:30\", 560.1),\n",
    "    (\"T005\", None, 300.0)\n",
    "]\n",
    "\n",
    "transactions = spark.createDataFrame(data, [\"TransactionID\", \"TransactionDate\", \"Amount\"])\n",
    "transactions.show(truncate=False)\n"
   ]
  },
  {
   "cell_type": "code",
   "execution_count": 2,
   "id": "255a086e-bfb8-495d-9ebf-0d37d0c02c99",
   "metadata": {},
   "outputs": [
    {
     "data": {
      "text/plain": [
       "'\\nConvertis la colonne TransactionDate (string) en timestamp.\\nCrée une colonne DateOnly contenant uniquement la date (yyyy-MM-dd).\\nCrée une colonne YearMonth au format yyyy-MM pour grouper par mois.\\n'"
      ]
     },
     "execution_count": 2,
     "metadata": {},
     "output_type": "execute_result"
    }
   ],
   "source": [
    "\"\"\"\n",
    "Convertis la colonne TransactionDate (string) en timestamp.\n",
    "Crée une colonne DateOnly contenant uniquement la date (yyyy-MM-dd).\n",
    "Crée une colonne YearMonth au format yyyy-MM pour grouper par mois.\n",
    "\"\"\""
   ]
  },
  {
   "cell_type": "code",
   "execution_count": 3,
   "id": "33d565ff-9512-4259-994f-908c002364f7",
   "metadata": {},
   "outputs": [],
   "source": [
    "import pyspark.sql.functions as sf"
   ]
  },
  {
   "cell_type": "code",
   "execution_count": 4,
   "id": "756ec0b0-f281-491f-9d44-9be7423381f8",
   "metadata": {},
   "outputs": [
    {
     "name": "stdout",
     "output_type": "stream",
     "text": [
      "root\n",
      " |-- to_timestamp(TransactionDate): timestamp (nullable = true)\n",
      "\n"
     ]
    }
   ],
   "source": [
    "transactions.select(sf.to_timestamp('TransactionDate')).printSchema()"
   ]
  },
  {
   "cell_type": "code",
   "execution_count": 5,
   "id": "f49fa659-5f51-4fa3-a63a-e4fb4ee6c224",
   "metadata": {},
   "outputs": [],
   "source": [
    "transactions = transactions.withColumn( 'TransactionDate', sf.to_timestamp('TransactionDate'))"
   ]
  },
  {
   "cell_type": "code",
   "execution_count": 6,
   "id": "f259583d-1840-48e8-bd5b-4d4581078ab5",
   "metadata": {},
   "outputs": [
    {
     "name": "stdout",
     "output_type": "stream",
     "text": [
      "root\n",
      " |-- TransactionID: string (nullable = true)\n",
      " |-- TransactionDate: timestamp (nullable = true)\n",
      " |-- Amount: double (nullable = true)\n",
      "\n"
     ]
    }
   ],
   "source": [
    "transactions.printSchema()"
   ]
  },
  {
   "cell_type": "code",
   "execution_count": 7,
   "id": "d67d159a-5561-4fed-bac9-34f2ca17cf9b",
   "metadata": {},
   "outputs": [
    {
     "name": "stdout",
     "output_type": "stream",
     "text": [
      "+-------------+-------------------+------+----------+\n",
      "|TransactionID|    TransactionDate|Amount|  DateOnly|\n",
      "+-------------+-------------------+------+----------+\n",
      "|         T001|2025-08-28 14:30:00| 120.5|2025-08-28|\n",
      "|         T002|2024-12-31 23:59:59| 250.0|2024-12-31|\n",
      "|         T003|2023-01-15 08:15:45|  75.2|2023-01-15|\n",
      "|         T004|2022-06-05 18:05:30| 560.1|2022-06-05|\n",
      "|         T005|               NULL| 300.0|      NULL|\n",
      "+-------------+-------------------+------+----------+\n",
      "\n"
     ]
    }
   ],
   "source": [
    "transactions.withColumn('DateOnly' , sf.to_date('TransactionDate')).show()"
   ]
  },
  {
   "cell_type": "code",
   "execution_count": 8,
   "id": "62cc4b89-a036-41bf-aa12-c329142f51d5",
   "metadata": {},
   "outputs": [],
   "source": [
    "transactions = transactions.withColumn('DateOnly' , sf.to_date('TransactionDate'))"
   ]
  },
  {
   "cell_type": "code",
   "execution_count": 9,
   "id": "b0a8ff9b-60c8-4fdf-9ad1-52b96f5b9b7a",
   "metadata": {},
   "outputs": [
    {
     "name": "stdout",
     "output_type": "stream",
     "text": [
      "root\n",
      " |-- TransactionID: string (nullable = true)\n",
      " |-- TransactionDate: timestamp (nullable = true)\n",
      " |-- Amount: double (nullable = true)\n",
      " |-- DateOnly: date (nullable = true)\n",
      "\n"
     ]
    }
   ],
   "source": [
    "transactions.printSchema()"
   ]
  },
  {
   "cell_type": "code",
   "execution_count": 10,
   "id": "0d2502a2-4557-4344-9b79-fa6e6de8b9d5",
   "metadata": {},
   "outputs": [
    {
     "name": "stdout",
     "output_type": "stream",
     "text": [
      "+-------------+-------------------+------+----------+---------+\n",
      "|TransactionID|    TransactionDate|Amount|  DateOnly|YearMonth|\n",
      "+-------------+-------------------+------+----------+---------+\n",
      "|         T001|2025-08-28 14:30:00| 120.5|2025-08-28|  2025-08|\n",
      "|         T002|2024-12-31 23:59:59| 250.0|2024-12-31|  2024-12|\n",
      "|         T003|2023-01-15 08:15:45|  75.2|2023-01-15|  2023-01|\n",
      "|         T004|2022-06-05 18:05:30| 560.1|2022-06-05|  2022-06|\n",
      "|         T005|               NULL| 300.0|      NULL|     NULL|\n",
      "+-------------+-------------------+------+----------+---------+\n",
      "\n"
     ]
    }
   ],
   "source": [
    "transactions.withColumn('YearMonth' , sf.date_format('DateOnly' , 'yyyy-MM')).show()"
   ]
  },
  {
   "cell_type": "code",
   "execution_count": 11,
   "id": "f4fdec32-42a9-4a6c-8f33-96c8a4a33981",
   "metadata": {},
   "outputs": [],
   "source": [
    "transactions = transactions.withColumn('YearMonth' , sf.date_format('DateOnly' , 'yyyy-MM'))"
   ]
  },
  {
   "cell_type": "code",
   "execution_count": 12,
   "id": "a46cc5bd-3b24-4c50-8a3f-2c19f35cc487",
   "metadata": {},
   "outputs": [
    {
     "data": {
      "text/plain": [
       "'\\nExtrais l’année, le mois, le jour, l’heure, les minutes et les secondes.\\nCrée une colonne DayOfWeek qui renvoie le jour de la semaine.\\nCrée une colonne WeekOfYear (1 → 52).\\n'"
      ]
     },
     "execution_count": 12,
     "metadata": {},
     "output_type": "execute_result"
    }
   ],
   "source": [
    "\"\"\"\n",
    "Extrais l’année, le mois, le jour, l’heure, les minutes et les secondes.\n",
    "Crée une colonne DayOfWeek qui renvoie le jour de la semaine.\n",
    "Crée une colonne WeekOfYear (1 → 52).\n",
    "\"\"\""
   ]
  },
  {
   "cell_type": "code",
   "execution_count": 13,
   "id": "c7410b91-040f-4db5-bbd2-e16b3e1b41f9",
   "metadata": {},
   "outputs": [
    {
     "name": "stdout",
     "output_type": "stream",
     "text": [
      "+-------------+-------------------+------+----------+---------+----+-----+----+----+-------+-------+\n",
      "|TransactionID|    TransactionDate|Amount|  DateOnly|YearMonth|year|month| day|hour|minutes|seconds|\n",
      "+-------------+-------------------+------+----------+---------+----+-----+----+----+-------+-------+\n",
      "|         T001|2025-08-28 14:30:00| 120.5|2025-08-28|  2025-08|2025|    8|  28|  14|     30|      0|\n",
      "|         T002|2024-12-31 23:59:59| 250.0|2024-12-31|  2024-12|2024|   12|  31|  23|     59|     59|\n",
      "|         T003|2023-01-15 08:15:45|  75.2|2023-01-15|  2023-01|2023|    1|  15|   8|     15|     45|\n",
      "|         T004|2022-06-05 18:05:30| 560.1|2022-06-05|  2022-06|2022|    6|   5|  18|      5|     30|\n",
      "|         T005|               NULL| 300.0|      NULL|     NULL|NULL| NULL|NULL|NULL|   NULL|   NULL|\n",
      "+-------------+-------------------+------+----------+---------+----+-----+----+----+-------+-------+\n",
      "\n"
     ]
    }
   ],
   "source": [
    "transactions \\\n",
    "    .withColumn('year' , sf.year('TransactionDate')) \\\n",
    "    .withColumn('month' , sf.month('TransactionDate')) \\\n",
    "    .withColumn('day' , sf.day('TransactionDate')) \\\n",
    "    .withColumn('hour' , sf.hour('TransactionDate')) \\\n",
    "    .withColumn('minutes' , sf.minute('TransactionDate')) \\\n",
    "    .withColumn('seconds' , sf.second('TransactionDate')) \\\n",
    ".show()"
   ]
  },
  {
   "cell_type": "code",
   "execution_count": 14,
   "id": "9eef8bad-371a-4466-ad3c-85575b821d28",
   "metadata": {},
   "outputs": [],
   "source": [
    "transactions = transactions \\\n",
    "    .withColumn('year' , sf.year('TransactionDate')) \\\n",
    "    .withColumn('month' , sf.month('TransactionDate')) \\\n",
    "    .withColumn('day' , sf.day('TransactionDate')) \\\n",
    "    .withColumn('hour' , sf.hour('TransactionDate')) \\\n",
    "    .withColumn('minutes' , sf.minute('TransactionDate')) \\\n",
    "    .withColumn('seconds' , sf.second('TransactionDate')) "
   ]
  },
  {
   "cell_type": "code",
   "execution_count": 15,
   "id": "41dc839b-4074-44c1-8b98-1c8e2d7e6925",
   "metadata": {},
   "outputs": [
    {
     "name": "stdout",
     "output_type": "stream",
     "text": [
      "+-------------+-------------------+------+----------+---------+----+-----+----+----+-------+-------+---------+\n",
      "|TransactionID|    TransactionDate|Amount|  DateOnly|YearMonth|year|month| day|hour|minutes|seconds|dayofweek|\n",
      "+-------------+-------------------+------+----------+---------+----+-----+----+----+-------+-------+---------+\n",
      "|         T001|2025-08-28 14:30:00| 120.5|2025-08-28|  2025-08|2025|    8|  28|  14|     30|      0|        5|\n",
      "|         T002|2024-12-31 23:59:59| 250.0|2024-12-31|  2024-12|2024|   12|  31|  23|     59|     59|        3|\n",
      "|         T003|2023-01-15 08:15:45|  75.2|2023-01-15|  2023-01|2023|    1|  15|   8|     15|     45|        1|\n",
      "|         T004|2022-06-05 18:05:30| 560.1|2022-06-05|  2022-06|2022|    6|   5|  18|      5|     30|        1|\n",
      "|         T005|               NULL| 300.0|      NULL|     NULL|NULL| NULL|NULL|NULL|   NULL|   NULL|     NULL|\n",
      "+-------------+-------------------+------+----------+---------+----+-----+----+----+-------+-------+---------+\n",
      "\n"
     ]
    }
   ],
   "source": [
    "transactions.withColumn('dayofweek' , sf.dayofweek('TransactionDate')).show()"
   ]
  },
  {
   "cell_type": "code",
   "execution_count": 16,
   "id": "0a35b67f-7698-4b91-a013-c70d0511ad82",
   "metadata": {},
   "outputs": [],
   "source": [
    "transactions = transactions.withColumn('dayofweek' , sf.dayofweek('TransactionDate'))"
   ]
  },
  {
   "cell_type": "code",
   "execution_count": 17,
   "id": "ae2584e3-5d35-41c3-a9a4-eabae49fd535",
   "metadata": {},
   "outputs": [],
   "source": [
    "transactions = transactions.withColumn('weekofyear' , sf.weekofyear('TransactionDate'))"
   ]
  },
  {
   "cell_type": "code",
   "execution_count": 18,
   "id": "1b771a00-9686-4289-bc5e-44ef4621b404",
   "metadata": {},
   "outputs": [
    {
     "name": "stdout",
     "output_type": "stream",
     "text": [
      "+-------------+-------------------+------+----------+---------+----+-----+----+----+-------+-------+---------+----------+\n",
      "|TransactionID|    TransactionDate|Amount|  DateOnly|YearMonth|year|month| day|hour|minutes|seconds|dayofweek|weekofyear|\n",
      "+-------------+-------------------+------+----------+---------+----+-----+----+----+-------+-------+---------+----------+\n",
      "|         T001|2025-08-28 14:30:00| 120.5|2025-08-28|  2025-08|2025|    8|  28|  14|     30|      0|        5|        35|\n",
      "|         T002|2024-12-31 23:59:59| 250.0|2024-12-31|  2024-12|2024|   12|  31|  23|     59|     59|        3|         1|\n",
      "|         T003|2023-01-15 08:15:45|  75.2|2023-01-15|  2023-01|2023|    1|  15|   8|     15|     45|        1|         2|\n",
      "|         T004|2022-06-05 18:05:30| 560.1|2022-06-05|  2022-06|2022|    6|   5|  18|      5|     30|        1|        22|\n",
      "|         T005|               NULL| 300.0|      NULL|     NULL|NULL| NULL|NULL|NULL|   NULL|   NULL|     NULL|      NULL|\n",
      "+-------------+-------------------+------+----------+---------+----+-----+----+----+-------+-------+---------+----------+\n",
      "\n"
     ]
    }
   ],
   "source": [
    "transactions.show()"
   ]
  },
  {
   "cell_type": "code",
   "execution_count": 19,
   "id": "3ae13256-6cbf-4541-9486-3e567855bd26",
   "metadata": {},
   "outputs": [
    {
     "data": {
      "text/plain": [
       "'\\nAjoute une colonne UnixSeconds contenant le nombre de secondes depuis 1970-01-01.\\nCrée une colonne UnixMillis avec le nombre de millisecondes.\\nÀ partir de UnixSeconds, recrée une colonne BackToDate pour vérifier la conversion inverse.\\nCalcule le nombre de jours écoulés depuis la date de transaction jusqu’à aujourd’hui.\\nCalcule le nombre de secondes écoulées entre chaque transaction et 2025-01-01 00:00:00.\\n'"
      ]
     },
     "execution_count": 19,
     "metadata": {},
     "output_type": "execute_result"
    }
   ],
   "source": [
    "\"\"\"\n",
    "Ajoute une colonne UnixSeconds contenant le nombre de secondes depuis 1970-01-01.\n",
    "Crée une colonne UnixMillis avec le nombre de millisecondes.\n",
    "À partir de UnixSeconds, recrée une colonne BackToDate pour vérifier la conversion inverse.\n",
    "Calcule le nombre de jours écoulés depuis la date de transaction jusqu’à aujourd’hui.\n",
    "Calcule le nombre de secondes écoulées entre chaque transaction et 2025-01-01 00:00:00.\n",
    "\"\"\"\n"
   ]
  },
  {
   "cell_type": "code",
   "execution_count": 20,
   "id": "c152d905-4626-4f35-bafa-2420159ac22f",
   "metadata": {},
   "outputs": [],
   "source": [
    "transactions = transactions.withColumn('UnixSeconds' , sf.unix_seconds('TransactionDate'))"
   ]
  },
  {
   "cell_type": "code",
   "execution_count": 21,
   "id": "809419f8-a857-4b01-b98a-4be06410e197",
   "metadata": {},
   "outputs": [
    {
     "name": "stdout",
     "output_type": "stream",
     "text": [
      "+-------------+-------------------+------+----------+---------+----+-----+----+----+-------+-------+---------+----------+-----------+\n",
      "|TransactionID|    TransactionDate|Amount|  DateOnly|YearMonth|year|month| day|hour|minutes|seconds|dayofweek|weekofyear|UnixSeconds|\n",
      "+-------------+-------------------+------+----------+---------+----+-----+----+----+-------+-------+---------+----------+-----------+\n",
      "|         T001|2025-08-28 14:30:00| 120.5|2025-08-28|  2025-08|2025|    8|  28|  14|     30|      0|        5|        35| 1756384200|\n",
      "|         T002|2024-12-31 23:59:59| 250.0|2024-12-31|  2024-12|2024|   12|  31|  23|     59|     59|        3|         1| 1735685999|\n",
      "|         T003|2023-01-15 08:15:45|  75.2|2023-01-15|  2023-01|2023|    1|  15|   8|     15|     45|        1|         2| 1673766945|\n",
      "|         T004|2022-06-05 18:05:30| 560.1|2022-06-05|  2022-06|2022|    6|   5|  18|      5|     30|        1|        22| 1654445130|\n",
      "|         T005|               NULL| 300.0|      NULL|     NULL|NULL| NULL|NULL|NULL|   NULL|   NULL|     NULL|      NULL|       NULL|\n",
      "+-------------+-------------------+------+----------+---------+----+-----+----+----+-------+-------+---------+----------+-----------+\n",
      "\n"
     ]
    }
   ],
   "source": [
    "transactions.show()"
   ]
  },
  {
   "cell_type": "code",
   "execution_count": 22,
   "id": "8de75125-6b1c-459c-99a2-1d5d556296d8",
   "metadata": {},
   "outputs": [
    {
     "name": "stdout",
     "output_type": "stream",
     "text": [
      "+-------------+-------------------+------+----------+---------+----+-----+----+----+-------+-------+---------+----------+-----------+-------------+\n",
      "|TransactionID|    TransactionDate|Amount|  DateOnly|YearMonth|year|month| day|hour|minutes|seconds|dayofweek|weekofyear|UnixSeconds|  unix_millis|\n",
      "+-------------+-------------------+------+----------+---------+----+-----+----+----+-------+-------+---------+----------+-----------+-------------+\n",
      "|         T001|2025-08-28 14:30:00| 120.5|2025-08-28|  2025-08|2025|    8|  28|  14|     30|      0|        5|        35| 1756384200|1756384200000|\n",
      "|         T002|2024-12-31 23:59:59| 250.0|2024-12-31|  2024-12|2024|   12|  31|  23|     59|     59|        3|         1| 1735685999|1735685999000|\n",
      "|         T003|2023-01-15 08:15:45|  75.2|2023-01-15|  2023-01|2023|    1|  15|   8|     15|     45|        1|         2| 1673766945|1673766945000|\n",
      "|         T004|2022-06-05 18:05:30| 560.1|2022-06-05|  2022-06|2022|    6|   5|  18|      5|     30|        1|        22| 1654445130|1654445130000|\n",
      "|         T005|               NULL| 300.0|      NULL|     NULL|NULL| NULL|NULL|NULL|   NULL|   NULL|     NULL|      NULL|       NULL|         NULL|\n",
      "+-------------+-------------------+------+----------+---------+----+-----+----+----+-------+-------+---------+----------+-----------+-------------+\n",
      "\n"
     ]
    }
   ],
   "source": [
    "transactions.withColumn('unix_millis' , sf.unix_millis('TransactionDate')).show()"
   ]
  },
  {
   "cell_type": "code",
   "execution_count": 23,
   "id": "ca7d07f2-081d-457d-8220-e42ceb8037b8",
   "metadata": {},
   "outputs": [],
   "source": [
    "transactions = transactions.withColumn('unix_millis' , sf.unix_millis('TransactionDate'))"
   ]
  },
  {
   "cell_type": "code",
   "execution_count": 24,
   "id": "b97bfca1-8507-4b3e-9579-0254060378a8",
   "metadata": {},
   "outputs": [
    {
     "name": "stdout",
     "output_type": "stream",
     "text": [
      "+-------------+-------------------+------+----------+---------+----+-----+----+----+-------+-------+---------+----------+-----------+-------------+------------+\n",
      "|TransactionID|    TransactionDate|Amount|  DateOnly|YearMonth|year|month| day|hour|minutes|seconds|dayofweek|weekofyear|UnixSeconds|  unix_millis|unix_seconds|\n",
      "+-------------+-------------------+------+----------+---------+----+-----+----+----+-------+-------+---------+----------+-----------+-------------+------------+\n",
      "|         T001|2025-08-28 14:30:00| 120.5|2025-08-28|  2025-08|2025|    8|  28|  14|     30|      0|        5|        35| 1756384200|1756384200000|  1756384200|\n",
      "|         T002|2024-12-31 23:59:59| 250.0|2024-12-31|  2024-12|2024|   12|  31|  23|     59|     59|        3|         1| 1735685999|1735685999000|  1735685999|\n",
      "|         T003|2023-01-15 08:15:45|  75.2|2023-01-15|  2023-01|2023|    1|  15|   8|     15|     45|        1|         2| 1673766945|1673766945000|  1673766945|\n",
      "|         T004|2022-06-05 18:05:30| 560.1|2022-06-05|  2022-06|2022|    6|   5|  18|      5|     30|        1|        22| 1654445130|1654445130000|  1654445130|\n",
      "|         T005|               NULL| 300.0|      NULL|     NULL|NULL| NULL|NULL|NULL|   NULL|   NULL|     NULL|      NULL|       NULL|         NULL|        NULL|\n",
      "+-------------+-------------------+------+----------+---------+----+-----+----+----+-------+-------+---------+----------+-----------+-------------+------------+\n",
      "\n"
     ]
    }
   ],
   "source": [
    "\n",
    "transactions = transactions.withColumn('unix_seconds' , sf.unix_seconds('TransactionDate'))\n",
    "transactions.show()"
   ]
  },
  {
   "cell_type": "code",
   "execution_count": 25,
   "id": "40f36003-883e-4d3d-968d-3749720bb0aa",
   "metadata": {},
   "outputs": [
    {
     "name": "stdout",
     "output_type": "stream",
     "text": [
      "root\n",
      " |-- TransactionID: string (nullable = true)\n",
      " |-- TransactionDate: timestamp (nullable = true)\n",
      " |-- Amount: double (nullable = true)\n",
      " |-- DateOnly: date (nullable = true)\n",
      " |-- YearMonth: string (nullable = true)\n",
      " |-- year: integer (nullable = true)\n",
      " |-- month: integer (nullable = true)\n",
      " |-- day: integer (nullable = true)\n",
      " |-- hour: integer (nullable = true)\n",
      " |-- minutes: integer (nullable = true)\n",
      " |-- seconds: integer (nullable = true)\n",
      " |-- dayofweek: integer (nullable = true)\n",
      " |-- weekofyear: integer (nullable = true)\n",
      " |-- UnixSeconds: long (nullable = true)\n",
      " |-- unix_millis: long (nullable = true)\n",
      " |-- unix_seconds: long (nullable = true)\n",
      "\n"
     ]
    }
   ],
   "source": [
    "transactions.printSchema()"
   ]
  },
  {
   "cell_type": "code",
   "execution_count": 26,
   "id": "26f4172e-dfc4-46ed-81fc-43058e8b2494",
   "metadata": {},
   "outputs": [
    {
     "name": "stdout",
     "output_type": "stream",
     "text": [
      "+-------------+-------------------+------+----------+---------+----+-----+----+----+-------+-------+---------+----------+-----------+-------------+------------+----------------------+\n",
      "|TransactionID|    TransactionDate|Amount|  DateOnly|YearMonth|year|month| day|hour|minutes|seconds|dayofweek|weekofyear|UnixSeconds|  unix_millis|unix_seconds|days_since_transaction|\n",
      "+-------------+-------------------+------+----------+---------+----+-----+----+----+-------+-------+---------+----------+-----------+-------------+------------+----------------------+\n",
      "|         T001|2025-08-28 14:30:00| 120.5|2025-08-28|  2025-08|2025|    8|  28|  14|     30|      0|        5|        35| 1756384200|1756384200000|  1756384200|                     1|\n",
      "|         T002|2024-12-31 23:59:59| 250.0|2024-12-31|  2024-12|2024|   12|  31|  23|     59|     59|        3|         1| 1735685999|1735685999000|  1735685999|                   241|\n",
      "|         T003|2023-01-15 08:15:45|  75.2|2023-01-15|  2023-01|2023|    1|  15|   8|     15|     45|        1|         2| 1673766945|1673766945000|  1673766945|                   957|\n",
      "|         T004|2022-06-05 18:05:30| 560.1|2022-06-05|  2022-06|2022|    6|   5|  18|      5|     30|        1|        22| 1654445130|1654445130000|  1654445130|                  1181|\n",
      "|         T005|               NULL| 300.0|      NULL|     NULL|NULL| NULL|NULL|NULL|   NULL|   NULL|     NULL|      NULL|       NULL|         NULL|        NULL|                  NULL|\n",
      "+-------------+-------------------+------+----------+---------+----+-----+----+----+-------+-------+---------+----------+-----------+-------------+------------+----------------------+\n",
      "\n"
     ]
    }
   ],
   "source": [
    "# Calcule le nombre de jours écoulés depuis la date de transaction jusqu’à aujourd’hui.\n",
    "transactions = transactions.withColumn('days_since_transaction' , sf.datediff(sf.current_date() , sf.col('TransactionDate') ))\n",
    "transactions.show()"
   ]
  },
  {
   "cell_type": "code",
   "execution_count": 27,
   "id": "f87a7fcc-e6b3-43e2-9eb1-6b4cb4de3f13",
   "metadata": {},
   "outputs": [
    {
     "name": "stdout",
     "output_type": "stream",
     "text": [
      "+-------------+-------------------+------------+\n",
      "|TransactionID|TransactionDate    |seconds_diff|\n",
      "+-------------+-------------------+------------+\n",
      "|T001         |2025-08-28 14:30:00|20698200    |\n",
      "|T002         |2024-12-31 23:59:59|-1          |\n",
      "|T003         |2023-01-15 08:15:45|-61919055   |\n",
      "|T004         |2022-06-05 18:05:30|-81240870   |\n",
      "|T005         |NULL               |NULL        |\n",
      "+-------------+-------------------+------------+\n",
      "\n"
     ]
    }
   ],
   "source": [
    "# Calcule le nombre de secondes écoulées entre chaque transaction et 2025-01-01 00:00:00.\n",
    "\n",
    "# Définir la date de référence\n",
    "ref_date = sf.lit(\"2025-01-01 00:00:00\")\n",
    "\n",
    "transactions = transactions.withColumn(\n",
    "    \"seconds_diff\",\n",
    "    sf.unix_timestamp(sf.to_timestamp(\"TransactionDate\")) - sf.unix_timestamp(sf.to_timestamp(ref_date))\n",
    ")\n",
    "\n",
    "transactions.select(\"TransactionID\", \"TransactionDate\", \"seconds_diff\").show(truncate=False)"
   ]
  },
  {
   "cell_type": "code",
   "execution_count": 28,
   "id": "1c13d49d-26df-4b19-af8f-b70f3b918083",
   "metadata": {},
   "outputs": [
    {
     "data": {
      "text/plain": [
       "'\\nAjoute 7 jours à chaque transaction (TransactionDate + interval 7 days).\\nAjoute 2 heures à chaque transaction.\\nRetire 30 minutes.\\nCrée une colonne EndOfMonth contenant le dernier jour du mois.\\nCrée une colonne StartOfQuarter contenant le premier jour du trimestre.\\n'"
      ]
     },
     "execution_count": 28,
     "metadata": {},
     "output_type": "execute_result"
    }
   ],
   "source": [
    "\"\"\"\n",
    "Ajoute 7 jours à chaque transaction (TransactionDate + interval 7 days).\n",
    "Ajoute 2 heures à chaque transaction.\n",
    "Retire 30 minutes.\n",
    "Crée une colonne EndOfMonth contenant le dernier jour du mois.\n",
    "Crée une colonne StartOfQuarter contenant le premier jour du trimestre.\n",
    "\"\"\""
   ]
  },
  {
   "cell_type": "code",
   "execution_count": 29,
   "id": "37011db5-4dd4-4e9a-8c25-185236d95810",
   "metadata": {},
   "outputs": [
    {
     "name": "stdout",
     "output_type": "stream",
     "text": [
      "+-------------+-------------------+------+----------+---------+----+-----+----+----+-------+-------+---------+----------+-----------+-------------+------------+----------------------+------------+\n",
      "|TransactionID|TransactionDate    |Amount|DateOnly  |YearMonth|year|month|day |hour|minutes|seconds|dayofweek|weekofyear|UnixSeconds|unix_millis  |unix_seconds|days_since_transaction|seconds_diff|\n",
      "+-------------+-------------------+------+----------+---------+----+-----+----+----+-------+-------+---------+----------+-----------+-------------+------------+----------------------+------------+\n",
      "|T001         |2025-08-28 14:30:00|120.5 |2025-08-28|2025-08  |2025|8    |28  |14  |30     |0      |5        |35        |1756384200 |1756384200000|1756384200  |1                     |20698200    |\n",
      "|T002         |2024-12-31 23:59:59|250.0 |2024-12-31|2024-12  |2024|12   |31  |23  |59     |59     |3        |1         |1735685999 |1735685999000|1735685999  |241                   |-1          |\n",
      "|T003         |2023-01-15 08:15:45|75.2  |2023-01-15|2023-01  |2023|1    |15  |8   |15     |45     |1        |2         |1673766945 |1673766945000|1673766945  |957                   |-61919055   |\n",
      "|T004         |2022-06-05 18:05:30|560.1 |2022-06-05|2022-06  |2022|6    |5   |18  |5      |30     |1        |22        |1654445130 |1654445130000|1654445130  |1181                  |-81240870   |\n",
      "|T005         |NULL               |300.0 |NULL      |NULL     |NULL|NULL |NULL|NULL|NULL   |NULL   |NULL     |NULL      |NULL       |NULL         |NULL        |NULL                  |NULL        |\n",
      "+-------------+-------------------+------+----------+---------+----+-----+----+----+-------+-------+---------+----------+-----------+-------------+------------+----------------------+------------+\n",
      "\n"
     ]
    }
   ],
   "source": [
    "# Ajoute 7 jours à chaque transaction\n",
    "transactions.show(truncate=False)"
   ]
  },
  {
   "cell_type": "code",
   "execution_count": 30,
   "id": "5d305fe9-e8ec-4f2f-8bef-cc2a7d9d0b43",
   "metadata": {},
   "outputs": [
    {
     "name": "stdout",
     "output_type": "stream",
     "text": [
      "+-------------+-------------------+------+----------+---------+----+-----+----+----+-------+-------+---------+----------+-----------+-------------+------------+----------------------+------------+--------------------+\n",
      "|TransactionID|    TransactionDate|Amount|  DateOnly|YearMonth|year|month| day|hour|minutes|seconds|dayofweek|weekofyear|UnixSeconds|  unix_millis|unix_seconds|days_since_transaction|seconds_diff|TransactionDate_pl_7|\n",
      "+-------------+-------------------+------+----------+---------+----+-----+----+----+-------+-------+---------+----------+-----------+-------------+------------+----------------------+------------+--------------------+\n",
      "|         T001|2025-08-28 14:30:00| 120.5|2025-08-28|  2025-08|2025|    8|  28|  14|     30|      0|        5|        35| 1756384200|1756384200000|  1756384200|                     1|    20698200|          2025-09-04|\n",
      "|         T002|2024-12-31 23:59:59| 250.0|2024-12-31|  2024-12|2024|   12|  31|  23|     59|     59|        3|         1| 1735685999|1735685999000|  1735685999|                   241|          -1|          2025-01-07|\n",
      "|         T003|2023-01-15 08:15:45|  75.2|2023-01-15|  2023-01|2023|    1|  15|   8|     15|     45|        1|         2| 1673766945|1673766945000|  1673766945|                   957|   -61919055|          2023-01-22|\n",
      "|         T004|2022-06-05 18:05:30| 560.1|2022-06-05|  2022-06|2022|    6|   5|  18|      5|     30|        1|        22| 1654445130|1654445130000|  1654445130|                  1181|   -81240870|          2022-06-12|\n",
      "|         T005|               NULL| 300.0|      NULL|     NULL|NULL| NULL|NULL|NULL|   NULL|   NULL|     NULL|      NULL|       NULL|         NULL|        NULL|                  NULL|        NULL|                NULL|\n",
      "+-------------+-------------------+------+----------+---------+----+-----+----+----+-------+-------+---------+----------+-----------+-------------+------------+----------------------+------------+--------------------+\n",
      "\n"
     ]
    }
   ],
   "source": [
    "transactions.withColumn('TransactionDate_pl_7' , sf.date_add(sf.col('TransactionDate'),7) ).show()"
   ]
  },
  {
   "cell_type": "code",
   "execution_count": 31,
   "id": "49f32258-3e63-4d60-983a-30054ce765a7",
   "metadata": {},
   "outputs": [],
   "source": [
    "transactions = transactions.withColumn('TransactionDate_pl_7' , sf.date_add(sf.col('TransactionDate'),7) )"
   ]
  },
  {
   "cell_type": "code",
   "execution_count": 32,
   "id": "f32a1a9e-77e8-4aa0-8a73-c7bc0ac13bb4",
   "metadata": {},
   "outputs": [
    {
     "name": "stdout",
     "output_type": "stream",
     "text": [
      "+-------------+-------------------+-----------+\n",
      "|TransactionID|    TransactionDate|UnixSeconds|\n",
      "+-------------+-------------------+-----------+\n",
      "|         T001|2025-08-28 14:30:00| 1756384200|\n",
      "|         T002|2024-12-31 23:59:59| 1735685999|\n",
      "|         T003|2023-01-15 08:15:45| 1673766945|\n",
      "|         T004|2022-06-05 18:05:30| 1654445130|\n",
      "|         T005|               NULL|       NULL|\n",
      "+-------------+-------------------+-----------+\n",
      "\n"
     ]
    }
   ],
   "source": [
    "# Ajoute 2 heures à chaque transaction.\n",
    "transactions.select('TransactionID' , 'TransactionDate', 'UnixSeconds').show()"
   ]
  },
  {
   "cell_type": "code",
   "execution_count": 33,
   "id": "24c43b8a-6e55-46f4-9545-8b961c8bbeae",
   "metadata": {},
   "outputs": [
    {
     "name": "stdout",
     "output_type": "stream",
     "text": [
      "root\n",
      " |-- TransactionID: string (nullable = true)\n",
      " |-- TransactionDate: timestamp (nullable = true)\n",
      " |-- Amount: double (nullable = true)\n",
      " |-- DateOnly: date (nullable = true)\n",
      " |-- YearMonth: string (nullable = true)\n",
      " |-- year: integer (nullable = true)\n",
      " |-- month: integer (nullable = true)\n",
      " |-- day: integer (nullable = true)\n",
      " |-- hour: integer (nullable = true)\n",
      " |-- minutes: integer (nullable = true)\n",
      " |-- seconds: integer (nullable = true)\n",
      " |-- dayofweek: integer (nullable = true)\n",
      " |-- weekofyear: integer (nullable = true)\n",
      " |-- UnixSeconds: long (nullable = true)\n",
      " |-- unix_millis: long (nullable = true)\n",
      " |-- unix_seconds: long (nullable = true)\n",
      " |-- days_since_transaction: integer (nullable = true)\n",
      " |-- seconds_diff: long (nullable = true)\n",
      " |-- TransactionDate_pl_7: date (nullable = true)\n",
      " |-- TransactionDate_plus_2: timestamp (nullable = true)\n",
      "\n",
      "+-------------+-----------+----------------------+\n",
      "|TransactionID|UnixSeconds|TransactionDate_plus_2|\n",
      "+-------------+-----------+----------------------+\n",
      "|T001         |1756384200 |2025-08-28 16:30:00   |\n",
      "|T002         |1735685999 |2025-01-01 01:59:59   |\n",
      "|T003         |1673766945 |2023-01-15 10:15:45   |\n",
      "|T004         |1654445130 |2022-06-05 20:05:30   |\n",
      "|T005         |NULL       |NULL                  |\n",
      "+-------------+-----------+----------------------+\n",
      "\n"
     ]
    }
   ],
   "source": [
    "transactions = transactions.withColumn(\n",
    "    \"TransactionDate_plus_2\",\n",
    "    sf.to_timestamp(sf.from_unixtime(sf.col(\"UnixSeconds\") + 2*3600))\n",
    ")\n",
    "transactions.printSchema()\n",
    "transactions.select(\"TransactionID\", \"UnixSeconds\", \"TransactionDate_plus_2\").show(truncate=False)\n"
   ]
  },
  {
   "cell_type": "code",
   "execution_count": 34,
   "id": "4001ce6e-1c23-410d-ad46-980d2fe8359c",
   "metadata": {},
   "outputs": [
    {
     "name": "stdout",
     "output_type": "stream",
     "text": [
      "+-------------+-------------------+------+----------+---------+----+-----+----+----+-------+-------+---------+----------+-----------+-------------+------------+----------------------+------------+--------------------+----------------------+\n",
      "|TransactionID|    TransactionDate|Amount|  DateOnly|YearMonth|year|month| day|hour|minutes|seconds|dayofweek|weekofyear|UnixSeconds|  unix_millis|unix_seconds|days_since_transaction|seconds_diff|TransactionDate_pl_7|TransactionDate_plus_2|\n",
      "+-------------+-------------------+------+----------+---------+----+-----+----+----+-------+-------+---------+----------+-----------+-------------+------------+----------------------+------------+--------------------+----------------------+\n",
      "|         T001|2025-08-28 14:30:00| 120.5|2025-08-28|  2025-08|2025|    8|  28|  14|     30|      0|        5|        35| 1756384200|1756384200000|  1756384200|                     1|    20698200|          2025-09-04|   2025-08-28 16:30:00|\n",
      "|         T002|2024-12-31 23:59:59| 250.0|2024-12-31|  2024-12|2024|   12|  31|  23|     59|     59|        3|         1| 1735685999|1735685999000|  1735685999|                   241|          -1|          2025-01-07|   2025-01-01 01:59:59|\n",
      "|         T003|2023-01-15 08:15:45|  75.2|2023-01-15|  2023-01|2023|    1|  15|   8|     15|     45|        1|         2| 1673766945|1673766945000|  1673766945|                   957|   -61919055|          2023-01-22|   2023-01-15 10:15:45|\n",
      "|         T004|2022-06-05 18:05:30| 560.1|2022-06-05|  2022-06|2022|    6|   5|  18|      5|     30|        1|        22| 1654445130|1654445130000|  1654445130|                  1181|   -81240870|          2022-06-12|   2022-06-05 20:05:30|\n",
      "|         T005|               NULL| 300.0|      NULL|     NULL|NULL| NULL|NULL|NULL|   NULL|   NULL|     NULL|      NULL|       NULL|         NULL|        NULL|                  NULL|        NULL|                NULL|                  NULL|\n",
      "+-------------+-------------------+------+----------+---------+----+-----+----+----+-------+-------+---------+----------+-----------+-------------+------------+----------------------+------------+--------------------+----------------------+\n",
      "\n"
     ]
    }
   ],
   "source": [
    "transactions.show()"
   ]
  },
  {
   "cell_type": "code",
   "execution_count": null,
   "id": "72ea1e20-3dd4-4852-9bd5-bdd65f9f36f9",
   "metadata": {},
   "outputs": [],
   "source": []
  }
 ],
 "metadata": {
  "kernelspec": {
   "display_name": "Python 3 (ipykernel)",
   "language": "python",
   "name": "python3"
  },
  "language_info": {
   "codemirror_mode": {
    "name": "ipython",
    "version": 3
   },
   "file_extension": ".py",
   "mimetype": "text/x-python",
   "name": "python",
   "nbconvert_exporter": "python",
   "pygments_lexer": "ipython3",
   "version": "3.10.12"
  }
 },
 "nbformat": 4,
 "nbformat_minor": 5
}
